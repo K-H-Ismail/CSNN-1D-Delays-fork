{
 "cells": [
  {
   "cell_type": "code",
   "execution_count": 1,
   "metadata": {},
   "outputs": [],
   "source": [
    "import sys\n",
    "import os\n",
    "\n",
    "import torch\n",
    "\n",
    "# Changing to parent directory\n",
    "parent_path = os.path.abspath(os.path.join('..'))\n",
    "if parent_path not in sys.path: sys.path.append(parent_path)\n",
    "\n",
    "os.chdir('..')\n",
    "\n",
    "from snn import SNN\n",
    "import data\n",
    "from config import Config\n",
    "\n",
    "device = torch.device(\"cuda\" if torch.cuda.is_available() else \"cpu\")\n",
    "\n",
    "config = Config()"
   ]
  },
  {
   "cell_type": "code",
   "execution_count": 2,
   "metadata": {},
   "outputs": [
    {
     "name": "stdout",
     "output_type": "stream",
     "text": [
      "The directory [Datasets/SHD/extract] for saving extracted files already exists.\n",
      "SpikingJelly will not check the data integrity of extracted files.\n",
      "If extracted files are not integrated, please delete [Datasets/SHD/extract] manually, then SpikingJelly will re-extract files from [Datasets/SHD/download].\n",
      "The directory [Datasets/SHD/duration_10] already exists.\n",
      "The directory [Datasets/SHD/extract] for saving extracted files already exists.\n",
      "SpikingJelly will not check the data integrity of extracted files.\n",
      "If extracted files are not integrated, please delete [Datasets/SHD/extract] manually, then SpikingJelly will re-extract files from [Datasets/SHD/download].\n",
      "The directory [Datasets/SHD/duration_10] already exists.\n"
     ]
    }
   ],
   "source": [
    "train_loader, valid_loader = data.SHD_dataloaders(config)\n",
    "\n",
    "model = SNN(config).to(device)"
   ]
  },
  {
   "cell_type": "code",
   "execution_count": 3,
   "metadata": {},
   "outputs": [
    {
     "name": "stdout",
     "output_type": "stream",
     "text": [
      "====> Epoch 0 :  8.071654319763184\n",
      "====> Epoch 1 :  5.642073631286621\n",
      "====> Epoch 2 :  3.0003397464752197\n",
      "====> Epoch 3 :  2.3998141288757324\n",
      "====> Epoch 4 :  1.9834296703338623\n",
      "====> Epoch 5 :  1.9702980518341064\n",
      "====> Epoch 6 :  2.123840570449829\n",
      "====> Epoch 7 :  1.6453793048858643\n",
      "====> Epoch 8 :  2.4460039138793945\n",
      "====> Epoch 9 :  1.943132996559143\n",
      "====> Epoch 10 :  1.36879563331604\n",
      "====> Epoch 11 :  1.3421475887298584\n",
      "====> Epoch 12 :  1.7440087795257568\n",
      "====> Epoch 13 :  1.4194475412368774\n",
      "====> Epoch 14 :  0.7534429430961609\n",
      "====> Epoch 15 :  1.072475790977478\n",
      "====> Epoch 16 :  1.0796685218811035\n",
      "====> Epoch 17 :  0.5753210783004761\n",
      "====> Epoch 18 :  0.8634862899780273\n",
      "====> Epoch 19 :  0.6770666241645813\n"
     ]
    }
   ],
   "source": [
    "model.train_model(train_loader, valid_loader, None, device)"
   ]
  },
  {
   "cell_type": "code",
   "execution_count": null,
   "metadata": {},
   "outputs": [],
   "source": []
  }
 ],
 "metadata": {
  "kernelspec": {
   "display_name": "dcls2-1d",
   "language": "python",
   "name": "python3"
  },
  "language_info": {
   "codemirror_mode": {
    "name": "ipython",
    "version": 3
   },
   "file_extension": ".py",
   "mimetype": "text/x-python",
   "name": "python",
   "nbconvert_exporter": "python",
   "pygments_lexer": "ipython3",
   "version": "3.10.12"
  }
 },
 "nbformat": 4,
 "nbformat_minor": 2
}
