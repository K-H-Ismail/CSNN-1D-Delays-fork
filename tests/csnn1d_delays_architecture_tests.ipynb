{
 "cells": [
  {
   "cell_type": "code",
   "execution_count": 1,
   "metadata": {},
   "outputs": [
    {
     "name": "stderr",
     "output_type": "stream",
     "text": [
      "/home/thanatos/python-venvs/dcls2-1d/lib/python3.10/site-packages/torch/cuda/__init__.py:118: UserWarning: CUDA initialization: CUDA unknown error - this may be due to an incorrectly set up environment, e.g. changing env variable CUDA_VISIBLE_DEVICES after program start. Setting the available devices to be zero. (Triggered internally at ../c10/cuda/CUDAFunctions.cpp:108.)\n",
      "  return torch._C._cuda_getDeviceCount() > 0\n"
     ]
    }
   ],
   "source": [
    "import sys\n",
    "import os\n",
    "\n",
    "import torch\n",
    "import torch.nn.functional as F\n",
    "# Changing to parent directory\n",
    "parent_path = os.path.abspath(os.path.join('..'))\n",
    "if parent_path not in sys.path: sys.path.append(parent_path)\n",
    "\n",
    "os.chdir('..')\n",
    "\n",
    "import data\n",
    "from csnn1d_delays import CSNN1d_Delays\n",
    "from config import Config\n",
    "\n",
    "device = torch.device(\"cuda\" if torch.cuda.is_available() else \"cpu\")\n",
    "\n",
    "config = Config()"
   ]
  },
  {
   "cell_type": "code",
   "execution_count": 2,
   "metadata": {},
   "outputs": [
    {
     "name": "stdout",
     "output_type": "stream",
     "text": [
      "The directory [Datasets/SHD/extract] for saving extracted files already exists.\n",
      "SpikingJelly will not check the data integrity of extracted files.\n",
      "If extracted files are not integrated, please delete [Datasets/SHD/extract] manually, then SpikingJelly will re-extract files from [Datasets/SHD/download].\n",
      "The directory [Datasets/SHD/duration_10] already exists.\n",
      "The directory [Datasets/SHD/extract] for saving extracted files already exists.\n",
      "SpikingJelly will not check the data integrity of extracted files.\n",
      "If extracted files are not integrated, please delete [Datasets/SHD/extract] manually, then SpikingJelly will re-extract files from [Datasets/SHD/download].\n",
      "The directory [Datasets/SHD/duration_10] already exists.\n",
      "##################################################################\n",
      "\n",
      "Sequential(\n",
      "  (0): Dcls2_1d(\n",
      "    1, 16, kernel_count=1 (for the learnable dims), stride=(5, 1), version=gauss, dense_kernel_size=(5,) (fixed), dilated_kernel_size=(21,) (learnable), bias=False\n",
      "    (DCK): ConstructKernel2_1d(1, 16, kernel_count=1, version=gauss, dilated_kernel_size=(21,))\n",
      "  )\n",
      "  (1): BatchNorm2d(16, eps=1e-05, momentum=0.1, affine=True, track_running_stats=True)\n",
      "  (2): LIFNode(\n",
      "    v_threshold=1.0, v_reset=0.0, detach_reset=True, step_mode=m, backend=torch, tau=10.05\n",
      "    (surrogate_function): ATan(alpha=5.0, spiking=True)\n",
      "  )\n",
      "  (3): Dcls2_1d(\n",
      "    16, 32, kernel_count=1 (for the learnable dims), stride=(5, 1), version=gauss, dense_kernel_size=(5,) (fixed), dilated_kernel_size=(21,) (learnable), bias=False\n",
      "    (DCK): ConstructKernel2_1d(16, 32, kernel_count=1, version=gauss, dilated_kernel_size=(21,))\n",
      "  )\n",
      "  (4): BatchNorm2d(32, eps=1e-05, momentum=0.1, affine=True, track_running_stats=True)\n",
      "  (5): LIFNode(\n",
      "    v_threshold=1.0, v_reset=0.0, detach_reset=True, step_mode=m, backend=torch, tau=10.05\n",
      "    (surrogate_function): ATan(alpha=5.0, spiking=True)\n",
      "  )\n",
      "  (6): Dcls2_1d(\n",
      "    32, 64, kernel_count=1 (for the learnable dims), stride=(2, 1), version=gauss, dense_kernel_size=(2,) (fixed), dilated_kernel_size=(21,) (learnable), bias=False\n",
      "    (DCK): ConstructKernel2_1d(32, 64, kernel_count=1, version=gauss, dilated_kernel_size=(21,))\n",
      "  )\n",
      "  (7): BatchNorm2d(64, eps=1e-05, momentum=0.1, affine=True, track_running_stats=True)\n",
      "  (8): LIFNode(\n",
      "    v_threshold=1.0, v_reset=0.0, detach_reset=True, step_mode=m, backend=torch, tau=10.05\n",
      "    (surrogate_function): ATan(alpha=5.0, spiking=True)\n",
      "  )\n",
      "  (9): Dcls2_1d(\n",
      "    64, 128, kernel_count=1 (for the learnable dims), stride=(2, 1), version=gauss, dense_kernel_size=(2,) (fixed), dilated_kernel_size=(21,) (learnable), bias=False\n",
      "    (DCK): ConstructKernel2_1d(64, 128, kernel_count=1, version=gauss, dilated_kernel_size=(21,))\n",
      "  )\n",
      "  (10): BatchNorm2d(128, eps=1e-05, momentum=0.1, affine=True, track_running_stats=True)\n",
      "  (11): LIFNode(\n",
      "    v_threshold=1.0, v_reset=0.0, detach_reset=True, step_mode=m, backend=torch, tau=10.05\n",
      "    (surrogate_function): ATan(alpha=5.0, spiking=True)\n",
      "  )\n",
      "  (12): Linear(in_features=128, out_features=20, bias=False)\n",
      "  (13): LIFNode(\n",
      "    v_threshold=1000000000.0, v_reset=0.0, detach_reset=True, step_mode=m, backend=torch, tau=10.05\n",
      "    (surrogate_function): ATan(alpha=5.0, spiking=True)\n",
      "  )\n",
      ")\n"
     ]
    }
   ],
   "source": [
    "train_loader, valid_loader = data.SHD_dataloaders(config)\n",
    "model = CSNN1d_Delays(config).to(device)\n",
    "print('##################################################################\\n')\n",
    "print(model.model)"
   ]
  },
  {
   "cell_type": "code",
   "execution_count": 3,
   "metadata": {},
   "outputs": [
    {
     "name": "stdout",
     "output_type": "stream",
     "text": [
      "torch.Size([128, 1, 700, 118])\n",
      "torch.Size([128, 16, 140, 118])\n",
      "torch.Size([128, 32, 28, 118])\n",
      "torch.Size([128, 64, 14, 118])\n",
      "torch.Size([118, 128, 20])\n"
     ]
    }
   ],
   "source": [
    "x, labels, _ = next(iter(train_loader))\n",
    "x = x.to(device)\n",
    "\n",
    "out = model(x)\n",
    "print(out.size())"
   ]
  }
 ],
 "metadata": {
  "kernelspec": {
   "display_name": "dcls2-1d",
   "language": "python",
   "name": "python3"
  },
  "language_info": {
   "codemirror_mode": {
    "name": "ipython",
    "version": 3
   },
   "file_extension": ".py",
   "mimetype": "text/x-python",
   "name": "python",
   "nbconvert_exporter": "python",
   "pygments_lexer": "ipython3",
   "version": "3.10.12"
  }
 },
 "nbformat": 4,
 "nbformat_minor": 2
}
