{
 "cells": [
  {
   "cell_type": "code",
   "execution_count": 1,
   "metadata": {},
   "outputs": [],
   "source": [
    "import sys\n",
    "import os\n",
    "\n",
    "import torch\n",
    "\n",
    "# Changing to parent directory\n",
    "parent_path = os.path.abspath(os.path.join('..'))\n",
    "if parent_path not in sys.path: sys.path.append(parent_path)\n",
    "\n",
    "os.chdir('..')\n",
    "\n",
    "import data\n",
    "from csnn1d import CSNN1d \n",
    "from config import Config\n",
    "\n",
    "device = torch.device(\"cuda\" if torch.cuda.is_available() else \"cpu\")\n",
    "\n",
    "config = Config()\n",
    "\n",
    "\n",
    "#Notes:\n",
    "# - Check if padding is necessary, add and test it if positive\n",
    "# - Test Global Pooling, before completing the model"
   ]
  },
  {
   "cell_type": "code",
   "execution_count": 2,
   "metadata": {},
   "outputs": [
    {
     "name": "stdout",
     "output_type": "stream",
     "text": [
      "The directory [Datasets/SHD/extract] for saving extracted files already exists.\n",
      "SpikingJelly will not check the data integrity of extracted files.\n",
      "If extracted files are not integrated, please delete [Datasets/SHD/extract] manually, then SpikingJelly will re-extract files from [Datasets/SHD/download].\n",
      "The directory [Datasets/SHD/duration_10] already exists.\n",
      "The directory [Datasets/SHD/extract] for saving extracted files already exists.\n",
      "SpikingJelly will not check the data integrity of extracted files.\n",
      "If extracted files are not integrated, please delete [Datasets/SHD/extract] manually, then SpikingJelly will re-extract files from [Datasets/SHD/download].\n",
      "The directory [Datasets/SHD/duration_10] already exists.\n"
     ]
    }
   ],
   "source": [
    "train_loader, valid_loader = data.SHD_dataloaders(config)\n",
    "model = CSNN1d(config).to(device)"
   ]
  },
  {
   "cell_type": "code",
   "execution_count": 3,
   "metadata": {},
   "outputs": [
    {
     "name": "stdout",
     "output_type": "stream",
     "text": [
      "Sequential(\n",
      "  (0): Sequential(\n",
      "    (0): Conv1d(1, 16, kernel_size=(5,), stride=(5,), bias=False, step_mode=m)\n",
      "    (1): BatchNorm1d(16, eps=1e-05, momentum=0.1, affine=True, track_running_stats=True, step_mode=m)\n",
      "    (2): LIFNode(\n",
      "      v_threshold=1.0, v_reset=0.0, detach_reset=True, step_mode=m, backend=torch, tau=10.05\n",
      "      (surrogate_function): ATan(alpha=5.0, spiking=True)\n",
      "    )\n",
      "  )\n",
      "  (1): Sequential(\n",
      "    (0): Conv1d(16, 32, kernel_size=(2,), stride=(2,), bias=False, step_mode=m)\n",
      "    (1): BatchNorm1d(32, eps=1e-05, momentum=0.1, affine=True, track_running_stats=True, step_mode=m)\n",
      "    (2): LIFNode(\n",
      "      v_threshold=1.0, v_reset=0.0, detach_reset=True, step_mode=m, backend=torch, tau=10.05\n",
      "      (surrogate_function): ATan(alpha=5.0, spiking=True)\n",
      "    )\n",
      "  )\n",
      "  (2): Sequential(\n",
      "    (0): Conv1d(32, 32, kernel_size=(2,), stride=(2,), bias=False, step_mode=m)\n",
      "    (1): BatchNorm1d(32, eps=1e-05, momentum=0.1, affine=True, track_running_stats=True, step_mode=m)\n",
      "    (2): LIFNode(\n",
      "      v_threshold=1.0, v_reset=0.0, detach_reset=True, step_mode=m, backend=torch, tau=10.05\n",
      "      (surrogate_function): ATan(alpha=5.0, spiking=True)\n",
      "    )\n",
      "  )\n",
      ")\n"
     ]
    }
   ],
   "source": [
    "model.blocks\n",
    "print(model.model)"
   ]
  },
  {
   "cell_type": "code",
   "execution_count": 4,
   "metadata": {},
   "outputs": [],
   "source": [
    "x, labels, _ = next(iter(train_loader))\n",
    "x = x.to(device)"
   ]
  },
  {
   "cell_type": "code",
   "execution_count": 5,
   "metadata": {},
   "outputs": [],
   "source": [
    "out = model(x)"
   ]
  },
  {
   "cell_type": "code",
   "execution_count": 6,
   "metadata": {},
   "outputs": [
    {
     "data": {
      "text/plain": [
       "torch.Size([104, 64, 35])"
      ]
     },
     "execution_count": 6,
     "metadata": {},
     "output_type": "execute_result"
    }
   ],
   "source": [
    "out.size()"
   ]
  },
  {
   "cell_type": "code",
   "execution_count": null,
   "metadata": {},
   "outputs": [],
   "source": []
  }
 ],
 "metadata": {
  "kernelspec": {
   "display_name": "dcls2-1d",
   "language": "python",
   "name": "python3"
  },
  "language_info": {
   "codemirror_mode": {
    "name": "ipython",
    "version": 3
   },
   "file_extension": ".py",
   "mimetype": "text/x-python",
   "name": "python",
   "nbconvert_exporter": "python",
   "pygments_lexer": "ipython3",
   "version": "3.10.12"
  }
 },
 "nbformat": 4,
 "nbformat_minor": 2
}
