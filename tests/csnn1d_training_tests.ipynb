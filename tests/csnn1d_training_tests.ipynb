{
 "cells": [
  {
   "cell_type": "code",
   "execution_count": 1,
   "metadata": {},
   "outputs": [],
   "source": [
    "import sys\n",
    "import os\n",
    "\n",
    "import torch\n",
    "\n",
    "# Changing to parent directory\n",
    "parent_path = os.path.abspath(os.path.join('..'))\n",
    "if parent_path not in sys.path: sys.path.append(parent_path)\n",
    "\n",
    "os.chdir('..')\n",
    "\n",
    "import data\n",
    "from csnn1d import CSNN1d \n",
    "from config import Config\n",
    "\n",
    "device = torch.device(\"cuda\" if torch.cuda.is_available() else \"cpu\")\n",
    "\n",
    "config = Config()"
   ]
  },
  {
   "cell_type": "code",
   "execution_count": 2,
   "metadata": {},
   "outputs": [
    {
     "name": "stdout",
     "output_type": "stream",
     "text": [
      "The directory [Datasets/SHD/extract] for saving extracted files already exists.\n",
      "SpikingJelly will not check the data integrity of extracted files.\n",
      "If extracted files are not integrated, please delete [Datasets/SHD/extract] manually, then SpikingJelly will re-extract files from [Datasets/SHD/download].\n",
      "The directory [Datasets/SHD/duration_10] already exists.\n",
      "The directory [Datasets/SHD/extract] for saving extracted files already exists.\n",
      "SpikingJelly will not check the data integrity of extracted files.\n",
      "If extracted files are not integrated, please delete [Datasets/SHD/extract] manually, then SpikingJelly will re-extract files from [Datasets/SHD/download].\n",
      "The directory [Datasets/SHD/duration_10] already exists.\n"
     ]
    }
   ],
   "source": [
    "train_loader, valid_loader = data.SHD_dataloaders(config)\n",
    "model = CSNN1d(config).to(device)"
   ]
  },
  {
   "cell_type": "code",
   "execution_count": null,
   "metadata": {},
   "outputs": [],
   "source": [
    "model.train_model(train_loader, valid_loader, None, device)"
   ]
  }
 ],
 "metadata": {
  "kernelspec": {
   "display_name": "dcls2-1d",
   "language": "python",
   "name": "python3"
  },
  "language_info": {
   "codemirror_mode": {
    "name": "ipython",
    "version": 3
   },
   "file_extension": ".py",
   "mimetype": "text/x-python",
   "name": "python",
   "nbconvert_exporter": "python",
   "pygments_lexer": "ipython3",
   "version": "3.10.12"
  }
 },
 "nbformat": 4,
 "nbformat_minor": 2
}
