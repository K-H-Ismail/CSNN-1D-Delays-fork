{
 "cells": [
  {
   "cell_type": "code",
   "execution_count": 1,
   "metadata": {},
   "outputs": [],
   "source": [
    "import sys\n",
    "import os\n",
    "\n",
    "import torch\n",
    "\n",
    "# Changing to parent directory\n",
    "parent_path = os.path.abspath(os.path.join('..'))\n",
    "if parent_path not in sys.path: sys.path.append(parent_path)\n",
    "\n",
    "os.chdir('..')\n",
    "\n",
    "from snn import SNN\n",
    "from config import Config\n",
    "\n",
    "device = torch.device(\"cuda\" if torch.cuda.is_available() else \"cpu\")\n",
    "\n",
    "config = Config()"
   ]
  },
  {
   "cell_type": "code",
   "execution_count": 2,
   "metadata": {},
   "outputs": [],
   "source": [
    "model = SNN(config).to(device)"
   ]
  },
  {
   "cell_type": "code",
   "execution_count": 3,
   "metadata": {},
   "outputs": [
    {
     "data": {
      "text/plain": [
       "SNN(\n",
       "  (model): Sequential(\n",
       "    (0): Linear(in_features=700, out_features=256, bias=False)\n",
       "    (1): BatchNorm1d(256, eps=1e-05, momentum=0.1, affine=True, track_running_stats=True, step_mode=m)\n",
       "    (2): LIFNode(\n",
       "      v_threshold=1.0, v_reset=0.0, detach_reset=True, step_mode=m, backend=torch, tau=10.05\n",
       "      (surrogate_function): ATan(alpha=5.0, spiking=True)\n",
       "    )\n",
       "    (3): Dropout(p=0.4)\n",
       "    (4): Linear(in_features=256, out_features=256, bias=False)\n",
       "    (5): BatchNorm1d(256, eps=1e-05, momentum=0.1, affine=True, track_running_stats=True, step_mode=m)\n",
       "    (6): LIFNode(\n",
       "      v_threshold=1.0, v_reset=0.0, detach_reset=True, step_mode=m, backend=torch, tau=10.05\n",
       "      (surrogate_function): ATan(alpha=5.0, spiking=True)\n",
       "    )\n",
       "    (7): Dropout(p=0.4)\n",
       "    (8): Linear(in_features=256, out_features=20, bias=False)\n",
       "    (9): LIFNode(\n",
       "      v_threshold=1000000000.0, v_reset=0.0, detach_reset=True, step_mode=m, backend=torch, tau=10.05\n",
       "      (surrogate_function): ATan(alpha=5.0, spiking=True)\n",
       "    )\n",
       "  )\n",
       ")"
      ]
     },
     "execution_count": 3,
     "metadata": {},
     "output_type": "execute_result"
    }
   ],
   "source": [
    "model"
   ]
  },
  {
   "cell_type": "code",
   "execution_count": 5,
   "metadata": {},
   "outputs": [
    {
     "data": {
      "text/plain": [
       "3"
      ]
     },
     "execution_count": 5,
     "metadata": {},
     "output_type": "execute_result"
    }
   ],
   "source": [
    "len(model.blocks)"
   ]
  },
  {
   "cell_type": "code",
   "execution_count": 18,
   "metadata": {},
   "outputs": [
    {
     "ename": "IndexError",
     "evalue": "list index out of range",
     "output_type": "error",
     "traceback": [
      "\u001b[0;31m---------------------------------------------------------------------------\u001b[0m",
      "\u001b[0;31mIndexError\u001b[0m                                Traceback (most recent call last)",
      "Cell \u001b[0;32mIn[18], line 1\u001b[0m\n\u001b[0;32m----> 1\u001b[0m \u001b[43mmodel\u001b[49m\u001b[38;5;241;43m.\u001b[39;49m\u001b[43mblocks\u001b[49m\u001b[43m[\u001b[49m\u001b[38;5;241;43m0\u001b[39;49m\u001b[43m]\u001b[49m\u001b[43m[\u001b[49m\u001b[38;5;241;43m2\u001b[39;49m\u001b[43m]\u001b[49m\n",
      "\u001b[0;31mIndexError\u001b[0m: list index out of range"
     ]
    }
   ],
   "source": [
    "model.blocks[0][2]"
   ]
  },
  {
   "cell_type": "code",
   "execution_count": 9,
   "metadata": {},
   "outputs": [
    {
     "data": {
      "text/plain": [
       "[[Linear(in_features=256, out_features=256, bias=False),\n",
       "  BatchNorm1d(256, eps=1e-05, momentum=0.1, affine=True, track_running_stats=True, step_mode=m)],\n",
       " [LIFNode(\n",
       "    v_threshold=1.0, v_reset=0.0, detach_reset=True, step_mode=m, backend=torch, tau=10.05\n",
       "    (surrogate_function): ATan(alpha=5.0, spiking=True)\n",
       "  ),\n",
       "  Dropout(p=0.4)]]"
      ]
     },
     "execution_count": 9,
     "metadata": {},
     "output_type": "execute_result"
    }
   ],
   "source": [
    "model.blocks[1]"
   ]
  },
  {
   "cell_type": "code",
   "execution_count": 10,
   "metadata": {},
   "outputs": [
    {
     "data": {
      "text/plain": [
       "[[Linear(in_features=256, out_features=20, bias=False)],\n",
       " [LIFNode(\n",
       "    v_threshold=1000000000.0, v_reset=0.0, detach_reset=True, step_mode=m, backend=torch, tau=10.05\n",
       "    (surrogate_function): ATan(alpha=5.0, spiking=True)\n",
       "  )]]"
      ]
     },
     "execution_count": 10,
     "metadata": {},
     "output_type": "execute_result"
    }
   ],
   "source": [
    "model.blocks[2]"
   ]
  },
  {
   "cell_type": "code",
   "execution_count": null,
   "metadata": {},
   "outputs": [],
   "source": []
  }
 ],
 "metadata": {
  "kernelspec": {
   "display_name": "dcls2-1d",
   "language": "python",
   "name": "python3"
  },
  "language_info": {
   "codemirror_mode": {
    "name": "ipython",
    "version": 3
   },
   "file_extension": ".py",
   "mimetype": "text/x-python",
   "name": "python",
   "nbconvert_exporter": "python",
   "pygments_lexer": "ipython3",
   "version": "3.10.12"
  }
 },
 "nbformat": 4,
 "nbformat_minor": 2
}
